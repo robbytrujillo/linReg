{
 "cells": [
  {
   "cell_type": "code",
   "execution_count": 61,
   "id": "422db123",
   "metadata": {},
   "outputs": [],
   "source": [
    "# Import library yang dibutuhkan'\n",
    "\n",
    "#import library dan package yang dibutuhkan\n",
    "\n",
    "import pandas as pd #untuk dataframe\n",
    "import pylab as pl #untuk plotting\n",
    "import matplotlib.pyplot as plt\n",
    "import numpy as np\n",
    "\n",
    "from sklearn.linear_model import LinearRegression\n",
    "\n",
    "%matplotlib inline"
   ]
  },
  {
   "cell_type": "code",
   "execution_count": 64,
   "id": "b42e72cf",
   "metadata": {},
   "outputs": [
    {
     "data": {
      "text/html": [
       "<div>\n",
       "<style scoped>\n",
       "    .dataframe tbody tr th:only-of-type {\n",
       "        vertical-align: middle;\n",
       "    }\n",
       "\n",
       "    .dataframe tbody tr th {\n",
       "        vertical-align: top;\n",
       "    }\n",
       "\n",
       "    .dataframe thead th {\n",
       "        text-align: right;\n",
       "    }\n",
       "</style>\n",
       "<table border=\"1\" class=\"dataframe\">\n",
       "  <thead>\n",
       "    <tr style=\"text-align: right;\">\n",
       "      <th></th>\n",
       "      <th>nama</th>\n",
       "      <th>umur</th>\n",
       "      <th>jenis_kelamin</th>\n",
       "      <th>pendidikan_terakhir</th>\n",
       "      <th>media_sosial_yang_digunakan</th>\n",
       "      <th>jumlah_postingan_per_bulan</th>\n",
       "      <th>jumlah_teman</th>\n",
       "      <th>jumlah_komentar_per_postingan</th>\n",
       "      <th>kelulusan</th>\n",
       "    </tr>\n",
       "  </thead>\n",
       "  <tbody>\n",
       "    <tr>\n",
       "      <th>0</th>\n",
       "      <td>Ali</td>\n",
       "      <td>25</td>\n",
       "      <td>Laki-laki</td>\n",
       "      <td>S1</td>\n",
       "      <td>Facebook</td>\n",
       "      <td>10</td>\n",
       "      <td>500</td>\n",
       "      <td>10</td>\n",
       "      <td>Lulus</td>\n",
       "    </tr>\n",
       "    <tr>\n",
       "      <th>1</th>\n",
       "      <td>Budi</td>\n",
       "      <td>27</td>\n",
       "      <td>Perempuan</td>\n",
       "      <td>S2</td>\n",
       "      <td>Twitter</td>\n",
       "      <td>20</td>\n",
       "      <td>1000</td>\n",
       "      <td>5</td>\n",
       "      <td>Tidak Lulus</td>\n",
       "    </tr>\n",
       "    <tr>\n",
       "      <th>2</th>\n",
       "      <td>Citra</td>\n",
       "      <td>23</td>\n",
       "      <td>Perempuan</td>\n",
       "      <td>S1</td>\n",
       "      <td>Instagram</td>\n",
       "      <td>30</td>\n",
       "      <td>2000</td>\n",
       "      <td>20</td>\n",
       "      <td>Lulus</td>\n",
       "    </tr>\n",
       "    <tr>\n",
       "      <th>3</th>\n",
       "      <td>Dian</td>\n",
       "      <td>30</td>\n",
       "      <td>Laki-laki</td>\n",
       "      <td>S1</td>\n",
       "      <td>Facebook</td>\n",
       "      <td>5</td>\n",
       "      <td>100</td>\n",
       "      <td>5</td>\n",
       "      <td>Tidak Lulus</td>\n",
       "    </tr>\n",
       "    <tr>\n",
       "      <th>4</th>\n",
       "      <td>Eka</td>\n",
       "      <td>28</td>\n",
       "      <td>Perempuan</td>\n",
       "      <td>S2</td>\n",
       "      <td>Twitter</td>\n",
       "      <td>15</td>\n",
       "      <td>500</td>\n",
       "      <td>15</td>\n",
       "      <td>Lulus</td>\n",
       "    </tr>\n",
       "  </tbody>\n",
       "</table>\n",
       "</div>"
      ],
      "text/plain": [
       "    nama  umur jenis_kelamin pendidikan_terakhir media_sosial_yang_digunakan  \\\n",
       "0    Ali    25     Laki-laki                  S1                    Facebook   \n",
       "1   Budi    27     Perempuan                  S2                     Twitter   \n",
       "2  Citra    23     Perempuan                  S1                   Instagram   \n",
       "3   Dian    30     Laki-laki                  S1                    Facebook   \n",
       "4    Eka    28     Perempuan                  S2                     Twitter   \n",
       "\n",
       "   jumlah_postingan_per_bulan  jumlah_teman  jumlah_komentar_per_postingan  \\\n",
       "0                          10           500                             10   \n",
       "1                          20          1000                              5   \n",
       "2                          30          2000                             20   \n",
       "3                           5           100                              5   \n",
       "4                          15           500                             15   \n",
       "\n",
       "     kelulusan  \n",
       "0        Lulus  \n",
       "1  Tidak Lulus  \n",
       "2        Lulus  \n",
       "3  Tidak Lulus  \n",
       "4        Lulus  "
      ]
     },
     "execution_count": 64,
     "metadata": {},
     "output_type": "execute_result"
    }
   ],
   "source": [
    "# Load data\n",
    "data = pd.read_csv(\"data/dataset.csv\")\n",
    "\n",
    "data.head()"
   ]
  },
  {
   "cell_type": "code",
   "execution_count": 65,
   "id": "9d674362",
   "metadata": {},
   "outputs": [
    {
     "data": {
      "text/html": [
       "<div>\n",
       "<style scoped>\n",
       "    .dataframe tbody tr th:only-of-type {\n",
       "        vertical-align: middle;\n",
       "    }\n",
       "\n",
       "    .dataframe tbody tr th {\n",
       "        vertical-align: top;\n",
       "    }\n",
       "\n",
       "    .dataframe thead th {\n",
       "        text-align: right;\n",
       "    }\n",
       "</style>\n",
       "<table border=\"1\" class=\"dataframe\">\n",
       "  <thead>\n",
       "    <tr style=\"text-align: right;\">\n",
       "      <th></th>\n",
       "      <th>umur</th>\n",
       "      <th>jumlah_postingan_per_bulan</th>\n",
       "      <th>jumlah_teman</th>\n",
       "      <th>jumlah_komentar_per_postingan</th>\n",
       "    </tr>\n",
       "  </thead>\n",
       "  <tbody>\n",
       "    <tr>\n",
       "      <th>0</th>\n",
       "      <td>25</td>\n",
       "      <td>10</td>\n",
       "      <td>500</td>\n",
       "      <td>10</td>\n",
       "    </tr>\n",
       "    <tr>\n",
       "      <th>1</th>\n",
       "      <td>27</td>\n",
       "      <td>20</td>\n",
       "      <td>1000</td>\n",
       "      <td>5</td>\n",
       "    </tr>\n",
       "    <tr>\n",
       "      <th>2</th>\n",
       "      <td>23</td>\n",
       "      <td>30</td>\n",
       "      <td>2000</td>\n",
       "      <td>20</td>\n",
       "    </tr>\n",
       "    <tr>\n",
       "      <th>3</th>\n",
       "      <td>30</td>\n",
       "      <td>5</td>\n",
       "      <td>100</td>\n",
       "      <td>5</td>\n",
       "    </tr>\n",
       "    <tr>\n",
       "      <th>4</th>\n",
       "      <td>28</td>\n",
       "      <td>15</td>\n",
       "      <td>500</td>\n",
       "      <td>15</td>\n",
       "    </tr>\n",
       "  </tbody>\n",
       "</table>\n",
       "</div>"
      ],
      "text/plain": [
       "   umur  jumlah_postingan_per_bulan  jumlah_teman  \\\n",
       "0    25                          10           500   \n",
       "1    27                          20          1000   \n",
       "2    23                          30          2000   \n",
       "3    30                           5           100   \n",
       "4    28                          15           500   \n",
       "\n",
       "   jumlah_komentar_per_postingan  \n",
       "0                             10  \n",
       "1                              5  \n",
       "2                             20  \n",
       "3                              5  \n",
       "4                             15  "
      ]
     },
     "execution_count": 65,
     "metadata": {},
     "output_type": "execute_result"
    }
   ],
   "source": [
    "#kita ambil kolom mana saja yang akan kita analisis, dan membuang sisanya\n",
    "\n",
    "cdata = data[['umur','jumlah_postingan_per_bulan','jumlah_teman','jumlah_komentar_per_postingan']]\n",
    "cdata.head(5)"
   ]
  },
  {
   "cell_type": "code",
   "execution_count": 66,
   "id": "2046e9a3",
   "metadata": {},
   "outputs": [
    {
     "data": {
      "image/png": "[encoded data removed]",
      "text/plain": [
       "<Figure size 640x480 with 1 Axes>"
      ]
     },
     "metadata": {},
     "output_type": "display_data"
    }
   ],
   "source": [
    "# kita plot hubungannya\n",
    "\n",
    "plt.scatter(cdata.jumlah_postingan_per_bulan, cdata.jumlah_komentar_per_postingan, color='blue')\n",
    "plt.xlabel(\"jumlah_postingan_per_bulan\")\n",
    "plt.ylabel(\"komentar\")\n",
    "plt.show()"
   ]
  },
  {
   "cell_type": "code",
   "execution_count": 67,
   "id": "c49e4694",
   "metadata": {},
   "outputs": [
    {
     "data": {
      "image/png": "[encoded data removed]",
      "text/plain": [
       "<Figure size 640x480 with 1 Axes>"
      ]
     },
     "metadata": {},
     "output_type": "display_data"
    }
   ],
   "source": [
    "# kita plot hubungannya\n",
    "\n",
    "plt.scatter(cdata.jumlah_teman, cdata.jumlah_komentar_per_postingan, color='blue')\n",
    "plt.xlabel(\"jumlah_teman\")\n",
    "plt.ylabel(\"komentar\")\n",
    "plt.show()"
   ]
  },
  {
   "cell_type": "code",
   "execution_count": null,
   "id": "9c1f8533",
   "metadata": {},
   "outputs": [],
   "source": []
  }
 ],
 "metadata": {
  "kernelspec": {
   "display_name": "Python 3 (ipykernel)",
   "language": "python",
   "name": "python3"
  },
  "language_info": {
   "codemirror_mode": {
    "name": "ipython",
    "version": 3
   },
   "file_extension": ".py",
   "mimetype": "text/x-python",
   "name": "python",
   "nbconvert_exporter": "python",
   "pygments_lexer": "ipython3",
   "version": "3.10.9"
  }
 },
 "nbformat": 4,
 "nbformat_minor": 5
}
